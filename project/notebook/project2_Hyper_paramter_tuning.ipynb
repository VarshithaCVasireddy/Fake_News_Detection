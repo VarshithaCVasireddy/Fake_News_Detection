{
  "cells": [
    {
      "attachments": {},
      "cell_type": "markdown",
      "metadata": {
        "id": "otAu1HtPrWEO"
      },
      "source": [
        "### This program consists of machine learning algorithms hyperparamter tuning"
      ]
    },
    {
      "cell_type": "code",
      "execution_count": null,
      "metadata": {
        "id": "OAH5DqoSrWEQ"
      },
      "outputs": [],
      "source": [
        "import nltk\n",
        "import pandas as pd\n",
        "from nltk.stem import WordNetLemmatizer\n",
        "\n",
        "# Import STOPWORDS from NLTK\n",
        "from nltk.corpus import stopwords\n",
        "\n",
        "import string, re\n",
        "\n",
        "from nltk.stem import WordNetLemmatizer\n",
        "\n",
        "from sklearn.feature_extraction.text import TfidfVectorizer\n",
        "from sklearn.preprocessing import LabelEncoder"
      ]
    },
    {
      "cell_type": "code",
      "execution_count": null,
      "metadata": {
        "id": "_oMteFEzrWER"
      },
      "outputs": [],
      "source": [
        "data_url = \"https://raw.githubusercontent.com/VarshithaCVasireddy/datasets/main/dataset_cleaned.csv?token=GHSAT0AAAAAACADFJF43BG7E4YJU64DNX2UZCAD4JA\"\n",
        "data = pd.read_csv(data_url)"
      ]
    },
    {
      "cell_type": "code",
      "execution_count": null,
      "metadata": {
        "colab": {
          "base_uri": "https://localhost:8080/"
        },
        "id": "eXAebcPmUwbN",
        "outputId": "48aba5b1-365c-4bb3-89b3-35fefad4a365"
      },
      "outputs": [],
      "source": [
        "nltk.download('punkt')\n",
        "nltk.download('stopwords')\n",
        "nltk.download('wordnet')\n",
        "nltk.download('omw-1.4')"
      ]
    },
    {
      "cell_type": "code",
      "execution_count": null,
      "metadata": {
        "id": "8q8J4C0IrWES"
      },
      "outputs": [],
      "source": [
        "data.title = [Text.lower() for Text in data.title]\n",
        "def sentence_tokenize(text: str):\n",
        "    return nltk.sent_tokenize(text)\n",
        "\n",
        "data['Sentences'] = data['title'].apply(sentence_tokenize)"
      ]
    },
    {
      "cell_type": "code",
      "execution_count": null,
      "metadata": {
        "id": "H7ukm2p4rWET"
      },
      "outputs": [],
      "source": [
        "def word_tokenize(sentences: list[str]):\n",
        "    words: list[str] = []\n",
        "    lemmatizer = WordNetLemmatizer()\n",
        "    for sent in sentences:\n",
        "        for word in nltk.word_tokenize(sent):\n",
        "            if word not in stopwords.words('english') and word not in string.punctuation:\n",
        "                word = re.sub(r\"[^a-zA-Z0-9\\s.]\", \"\", word)\n",
        "                words.append(lemmatizer.lemmatize(word))\n",
        "\n",
        "    return words \n",
        "\n",
        "data['Words'] = data['Sentences'].apply(word_tokenize)"
      ]
    },
    {
      "cell_type": "code",
      "execution_count": null,
      "metadata": {
        "id": "1civm47CrWET"
      },
      "outputs": [],
      "source": [
        "data['str1'] = [' '.join(doc) for doc in data.Words]"
      ]
    },
    {
      "cell_type": "code",
      "execution_count": null,
      "metadata": {
        "id": "rr5D9P9TrWEU"
      },
      "outputs": [],
      "source": [
        "from sklearn.model_selection import train_test_split\n",
        "\n",
        "# Split the data into features (X) and target variable (y)\n",
        "X = data.str1\n",
        "y = data.label\n",
        "\n",
        "# Split the data into train and test sets\n",
        "X_train, X_test, y_train, y_test = train_test_split(X, y, test_size=0.2, random_state=42)"
      ]
    },
    {
      "attachments": {},
      "cell_type": "markdown",
      "metadata": {},
      "source": [
        "### SVC Hyperparamter tuning"
      ]
    },
    {
      "cell_type": "code",
      "execution_count": null,
      "metadata": {
        "id": "o5XKEwH4U3_0"
      },
      "outputs": [],
      "source": [
        "from sklearn.model_selection import GridSearchCV\n",
        "from sklearn.svm import LinearSVC\n",
        "from sklearn.calibration import CalibratedClassifierCV\n",
        "from sklearn.pipeline import Pipeline\n",
        "from sklearn.feature_extraction.text import TfidfVectorizer\n",
        "from sklearn.preprocessing import LabelEncoder\n",
        "\n",
        "# Define the pipeline\n",
        "pipeline = Pipeline([\n",
        "    ('tfidf', TfidfVectorizer()),\n",
        "    ('svc', CalibratedClassifierCV(LinearSVC()))\n",
        "])\n",
        "\n",
        "# Define the hyperparameter grid to search\n",
        "param_grid = {\n",
        "    'tfidf__max_features': [1000, 5000, 10000],  # Example hyperparameter for TfidfVectorizer\n",
        "    'svc__base_estimator__C': [0.1, 1, 10],  # Example hyperparameter for LinearSVC\n",
        "    'svc__method': ['sigmoid', 'isotonic']  # Example hyperparameter for CalibratedClassifierCV\n",
        "}\n",
        "\n",
        "# Encode the labels\n",
        "le = LabelEncoder()\n",
        "y_train_encoded = le.fit_transform(y_train)\n",
        "y_test_encoded = le.transform(y_test)\n",
        "\n",
        "# Perform Grid Search\n",
        "grid_search = GridSearchCV(pipeline, param_grid, cv=5)\n",
        "grid_search.fit(X_train, y_train_encoded)\n",
        "\n",
        "# Get the best hyperparameter values and model accuracy\n",
        "best_params = grid_search.best_params_\n",
        "best_accuracy = grid_search.best_score_\n",
        "\n",
        "print(\"Best Hyperparameters: \", best_params)\n",
        "print(\"Best Accuracy: \", best_accuracy)\n"
      ]
    },
    {
      "cell_type": "markdown",
      "metadata": {
        "id": "zXHElVKbWgW6"
      },
      "source": [
        "Got output as <br>\n",
        "Best Hyperparameters:  {'svc__base_estimator__C': 1, 'svc__method': 'sigmoid', 'tfidf__max_features': 10000} <br>\n",
        "Best Accuracy:  0.9468439468159552"
      ]
    },
    {
      "cell_type": "code",
      "execution_count": null,
      "metadata": {
        "id": "uNLI3BShZoD1"
      },
      "outputs": [],
      "source": [
        "# Get the best trained model\n",
        "best_model = grid_search.best_estimator_\n",
        "\n",
        "# Predict on the test data\n",
        "y_pred = best_model.predict(X_test)"
      ]
    },
    {
      "cell_type": "code",
      "execution_count": null,
      "metadata": {
        "colab": {
          "base_uri": "https://localhost:8080/"
        },
        "id": "7OWaQ1CLZuck",
        "outputId": "9207d701-2bf9-4f35-e153-3322f97b39e2"
      },
      "outputs": [
        {
          "name": "stdout",
          "output_type": "stream",
          "text": [
            "Confusion Matrix:\n",
            "[[4491  246]\n",
            " [ 222 3973]]\n",
            "F1 Score: 0.9476123122797385\n",
            "Precision Score: 0.9476342245417095\n",
            "Recall Score: 0.9476041200179132\n",
            "ROC AUC Score: 0.9876618097632742\n"
          ]
        }
      ],
      "source": [
        "from sklearn.metrics import confusion_matrix, f1_score, precision_score, recall_score, roc_auc_score, roc_curve\n",
        "import matplotlib.pyplot as plt\n",
        "\n",
        "# Calculate confusion matrix\n",
        "cm = confusion_matrix(y_test_encoded, y_pred)\n",
        "print(\"Confusion Matrix:\")\n",
        "print(cm)\n",
        "\n",
        "# Calculate F1 score\n",
        "f1 = f1_score(y_test_encoded, y_pred, average='weighted')\n",
        "print(\"F1 Score:\", f1)\n",
        "\n",
        "# Calculate precision score\n",
        "precision = precision_score(y_test_encoded, y_pred, average='weighted')\n",
        "print(\"Precision Score:\", precision)\n",
        "\n",
        "# Calculate recall score\n",
        "recall = recall_score(y_test_encoded, y_pred, average='weighted')\n",
        "print(\"Recall Score:\", recall)\n",
        "\n",
        "# Calculate ROC curve and ROC AUC score\n",
        "y_pred_prob = best_model.predict_proba(X_test)[:, 1]\n",
        "fpr, tpr, thresholds = roc_curve(y_test_encoded, y_pred_prob)\n",
        "roc_auc = roc_auc_score(y_test_encoded, y_pred_prob)\n",
        "print(\"ROC AUC Score:\", roc_auc)\n"
      ]
    },
    {
      "cell_type": "markdown",
      "metadata": {
        "id": "5lRQtVe4erbQ"
      },
      "source": [
        "The output of SVC is <br>\n",
        "Confusion Matrix: <br>\n",
        "[[4491  246] <br>\n",
        " [ 222 3973]] <br>\n",
        "F1 Score: 0.9476123122797385 <br>\n",
        "Precision Score: 0.9476342245417095 <br>\n",
        "Recall Score: 0.9476041200179132 <br>\n",
        "ROC AUC Score: 0.9876618097632742"
      ]
    },
    {
      "cell_type": "code",
      "execution_count": null,
      "metadata": {
        "colab": {
          "base_uri": "https://localhost:8080/",
          "height": 564
        },
        "id": "Ep07dTdbZuXZ",
        "outputId": "95b8ee48-258c-48b8-fc07-9d741bc569c2"
      },
      "outputs": [
        {
          "data": {
            "image/png": "[encoded data removed]",
            "text/plain": [
              "<Figure size 800x600 with 1 Axes>"
            ]
          },
          "metadata": {},
          "output_type": "display_data"
        }
      ],
      "source": [
        "# Plot ROC curve\n",
        "plt.figure(figsize=(8, 6))\n",
        "plt.plot(fpr, tpr, label='ROC curve (area = %0.2f)' % roc_auc)\n",
        "plt.plot([0, 1], [0, 1], 'k--')\n",
        "plt.xlim([0.0, 1.0])\n",
        "plt.ylim([0.0, 1.0])\n",
        "plt.xlabel('False Positive Rate')\n",
        "plt.ylabel('True Positive Rate')\n",
        "plt.title('Receiver Operating Characteristic')\n",
        "plt.legend(loc=\"lower right\")\n",
        "plt.show()"
      ]
    },
    {
      "attachments": {},
      "cell_type": "markdown",
      "metadata": {},
      "source": [
        "### Naive Bayes Hyperparamter tuning"
      ]
    },
    {
      "cell_type": "code",
      "execution_count": null,
      "metadata": {
        "colab": {
          "base_uri": "https://localhost:8080/"
        },
        "id": "Bt-DlYJscJzn",
        "outputId": "2d95911b-3c00-40d4-ed96-9164020b8a5f"
      },
      "outputs": [
        {
          "name": "stdout",
          "output_type": "stream",
          "text": [
            "Best Hyperparameters:  {'nb__alpha': 1.0, 'tfidf_nb__max_features': 10000}\n",
            "Best Accuracy:  0.9337158852344297\n",
            "Best model:  Pipeline(steps=[('tfidf_nb', TfidfVectorizer(max_features=10000)),\n",
            "                ('nb', MultinomialNB())])\n"
          ]
        }
      ],
      "source": [
        "from sklearn.model_selection import GridSearchCV\n",
        "from sklearn.pipeline import Pipeline\n",
        "from sklearn.feature_extraction.text import TfidfVectorizer\n",
        "from sklearn.naive_bayes import MultinomialNB\n",
        "from sklearn.metrics import confusion_matrix, f1_score, precision_score, recall_score, roc_auc_score\n",
        "from sklearn.preprocessing import LabelEncoder\n",
        "import matplotlib.pyplot as plt\n",
        "\n",
        "# Define the pipeline with MultinomialNB as the base estimator\n",
        "pipeline_nb = Pipeline([\n",
        "    ('tfidf_nb', TfidfVectorizer()),\n",
        "    ('nb', MultinomialNB())\n",
        "])\n",
        "\n",
        "# Define hyperparameter grid for MultinomialNB\n",
        "param_grid_nb = {\n",
        "    'tfidf_nb__max_features': [1000, 5000, 10000], # Example hyperparameter for TfidfVectorizer\n",
        "    'nb__alpha': [0.1, 1.0, 10.0] # Example hyperparameter for MultinomialNB\n",
        "}\n",
        "\n",
        "# Perform GridSearchCV\n",
        "grid_search_nb = GridSearchCV(pipeline_nb, param_grid_nb, cv=5)\n",
        "grid_search_nb.fit(X_train, y_train_encoded)\n",
        "\n",
        "# Get the best hyperparameter values and model accuracy\n",
        "best_params_nb = grid_search_nb.best_params_\n",
        "best_accuracy_nb = grid_search_nb.best_score_\n",
        "\n",
        "# Get the best trained model\n",
        "best_model_nb = grid_search_nb.best_estimator_\n",
        "\n",
        "print(\"Best Hyperparameters: \", best_params_nb)\n",
        "print(\"Best Accuracy: \", best_accuracy_nb)\n",
        "print(\"Best model: \", best_model_nb)"
      ]
    },
    {
      "cell_type": "markdown",
      "metadata": {
        "id": "3tkedOOWeD35"
      },
      "source": [
        "Got the Naive Baye's output as <br>\n",
        "Best Hyperparameters:  {'nb__alpha': 1.0, 'tfidf_nb__max_features': 10000} <br>\n",
        "Best Accuracy:  0.9337158852344297 <br>\n",
        "Best model:  Pipeline(steps=[('tfidf_nb', TfidfVectorizer(max_features=10000)),\n",
        "                ('nb', MultinomialNB())])"
      ]
    },
    {
      "cell_type": "code",
      "execution_count": null,
      "metadata": {
        "id": "3yvZFwDidelj"
      },
      "outputs": [],
      "source": [
        "# Predict on test data\n",
        "y_pred_nb = best_model_nb.predict(X_test)\n",
        "\n",
        "# Calculate evaluation metrics\n",
        "confusion_mat_nb = confusion_matrix(y_test_encoded, y_pred_nb)\n",
        "f1_nb = f1_score(y_test_encoded, y_pred_nb, average='weighted')\n",
        "precision_nb = precision_score(y_test_encoded, y_pred_nb, average='weighted')\n",
        "recall_nb = recall_score(y_test_encoded, y_pred_nb, average='weighted')\n",
        "roc_auc_nb = None  # Set ROC AUC to None as it's not applicable for Naive Bayes"
      ]
    },
    {
      "cell_type": "code",
      "execution_count": null,
      "metadata": {
        "colab": {
          "base_uri": "https://localhost:8080/"
        },
        "id": "RY-OUy3Be_Wh",
        "outputId": "abb711a0-f957-4bd2-a320-69c623bba723"
      },
      "outputs": [
        {
          "name": "stdout",
          "output_type": "stream",
          "text": [
            "Naive Bayes Evaluation Metrics:\n",
            "Confusion Matrix:\n",
            "[[4453  284]\n",
            " [ 351 3844]]\n",
            "F1 Score: 0.9288707701316152\n",
            "Precision Score: 0.9289392968498633\n",
            "Recall Score: 0.9289072995969547\n",
            "ROC AUC Score: N/A (Not applicable for Naive Bayes)\n"
          ]
        }
      ],
      "source": [
        "# Print evaluation metrics\n",
        "print(\"Naive Bayes Evaluation Metrics:\")\n",
        "print(\"Confusion Matrix:\")\n",
        "print(confusion_mat_nb)\n",
        "print(\"F1 Score:\", f1_nb)\n",
        "print(\"Precision Score:\", precision_nb)\n",
        "print(\"Recall Score:\", recall_nb)\n",
        "print(\"ROC AUC Score: N/A (Not applicable for Naive Bayes)\")"
      ]
    },
    {
      "cell_type": "markdown",
      "metadata": {
        "id": "uJgcEsDbfGtp"
      },
      "source": [
        "The output of Naive Bayes is <br>\n",
        "Confusion Matrix: <br>\n",
        "[[4453  284] <br>\n",
        " [ 351 3844]] <br>\n",
        "F1 Score: 0.9288707701316152 <br>\n",
        "Precision Score: 0.9289392968498633 <br>\n",
        "Recall Score: 0.9289072995969547 <br>\n",
        "ROC AUC Score: N/A (Not applicable for Naive Bayes)"
      ]
    },
    {
      "attachments": {},
      "cell_type": "markdown",
      "metadata": {
        "id": "Zk95paE_gEaw"
      },
      "source": [
        "### Random Forest"
      ]
    },
    {
      "cell_type": "code",
      "execution_count": null,
      "metadata": {
        "colab": {
          "background_save": true
        },
        "id": "hK1fbyEagGf7"
      },
      "outputs": [],
      "source": [
        "from sklearn.model_selection import GridSearchCV\n",
        "from sklearn.ensemble import RandomForestClassifier\n",
        "from sklearn.pipeline import Pipeline\n",
        "from sklearn.feature_extraction.text import TfidfVectorizer\n",
        "from sklearn.preprocessing import LabelEncoder\n",
        "\n",
        "# Define the pipeline\n",
        "pipeline = Pipeline([\n",
        "    ('tfidf', TfidfVectorizer()),\n",
        "    ('rf', RandomForestClassifier())\n",
        "])\n",
        "\n",
        "# Define the hyperparameter grid to search\n",
        "param_grid = {\n",
        "    'tfidf__max_features': [1000, 5000, 10000],  # Example hyperparameter for TfidfVectorizer\n",
        "    'rf__n_estimators': [50, 100, 200],  # Example hyperparameter for RandomForestClassifier\n",
        "    'rf__max_depth': [None, 10, 20],  # Example hyperparameter for RandomForestClassifier\n",
        "    'rf__min_samples_split': [2, 5, 10],  # Example hyperparameter for RandomForestClassifier\n",
        "}\n",
        "\n",
        "\n",
        "# Perform Grid Search\n",
        "grid_search_rf = GridSearchCV(pipeline, param_grid, cv=5)\n",
        "grid_search_rf.fit(X_train, y_train_encoded)\n",
        "\n",
        "# Get the best hyperparameter values and model accuracy\n",
        "best_params_rf = grid_search_rf.best_params_\n",
        "best_accuracy_rf = grid_search_rf.best_score_\n",
        "\n",
        "print(\"Best Hyperparameters: \", best_params_rf)\n",
        "print(\"Best Accuracy: \", best_accuracy_rf)\n"
      ]
    },
    {
      "cell_type": "code",
      "execution_count": null,
      "metadata": {
        "colab": {
          "background_save": true
        },
        "id": "6PLNPTFFivO9"
      },
      "outputs": [],
      "source": [
        "# Get the best trained model\n",
        "best_model_rf = grid_search.best_estimator_\n",
        "\n",
        "# Predict on the test data\n",
        "y_pred_rf = best_model_rf.predict(X_test)\n",
        "from sklearn.metrics import confusion_matrix, f1_score, precision_score, recall_score, roc_auc_score, roc_curve\n",
        "import matplotlib.pyplot as plt\n",
        "\n",
        "# Calculate confusion matrix\n",
        "cm_rf = confusion_matrix(y_test_encoded, y_pred_rf)\n",
        "print(\"Confusion Matrix:\")\n",
        "print(cm_rf)\n",
        "\n",
        "# Calculate F1 score\n",
        "f1_rf = f1_score(y_test_encoded, y_pred_rf, average='weighted')\n",
        "print(\"F1 Score:\", f1_rf)\n",
        "\n",
        "# Calculate precision score\n",
        "precision_rf = precision_score(y_test_encoded, y_pred_rf, average='weighted')\n",
        "print(\"Precision Score:\", precision_rf)\n",
        "\n",
        "# Calculate recall score\n",
        "recall_rf = recall_score(y_test_encoded, y_pred_rf, average='weighted')\n",
        "print(\"Recall Score:\", recall_rf)"
      ]
    },
    {
      "cell_type": "code",
      "execution_count": null,
      "metadata": {
        "colab": {
          "background_save": true
        },
        "id": "mRtutZUriqGl"
      },
      "outputs": [],
      "source": [
        "# Calculate ROC curve and ROC AUC score\n",
        "y_pred_prob_rf = best_model_rf.predict_proba(X_test)[:, 1]\n",
        "fpr_rf, tpr_rf, thresholds_rf = roc_curve(y_test_encoded, y_pred_prob_rf)\n",
        "roc_auc_rf = roc_auc_score(y_test_encoded, y_pred_prob_rf)\n",
        "print(\"ROC AUC Score:\", roc_auc_rf)\n",
        "\n",
        "# Plot ROC curve\n",
        "plt.figure(figsize=(8, 6))\n",
        "plt.plot(fpr_rf, tpr_rf, label='ROC curve (area = %0.2f)' % roc_auc_rf)\n",
        "plt.plot([0, 1], [0, 1], 'k--')\n",
        "plt.xlim([0.0, 1.0])\n",
        "plt.ylim([0.0, 1.0])\n",
        "plt.xlabel('False Positive Rate')\n",
        "plt.ylabel('True Positive Rate')\n",
        "plt.title('Receiver Operating Characteristic')\n",
        "plt.legend(loc=\"lower right\")\n",
        "plt.show()"
      ]
    },
    {
      "attachments": {},
      "cell_type": "markdown",
      "metadata": {},
      "source": [
        "### Knn Hyperparamter tuning"
      ]
    },
    {
      "cell_type": "code",
      "execution_count": null,
      "metadata": {
        "colab": {
          "background_save": true
        },
        "id": "ANMjCaQdhmux",
        "outputId": "7aa7b8cd-80ba-4db1-f05d-ca14dc002866"
      },
      "outputs": [],
      "source": [
        "from sklearn.model_selection import GridSearchCV\n",
        "from sklearn.neighbors import KNeighborsClassifier\n",
        "from sklearn.pipeline import Pipeline\n",
        "from sklearn.feature_extraction.text import TfidfVectorizer\n",
        "from sklearn.preprocessing import LabelEncoder\n",
        "from sklearn.metrics import confusion_matrix, f1_score, precision_score, recall_score, roc_auc_score, roc_curve\n",
        "import matplotlib.pyplot as plt\n",
        "\n",
        "# Define the pipeline\n",
        "pipeline = Pipeline([\n",
        "    ('tfidf', TfidfVectorizer()),\n",
        "    ('knn', KNeighborsClassifier())\n",
        "])\n",
        "\n",
        "# Define the hyperparameter grid to search\n",
        "param_grid = {\n",
        "    'tfidf__max_features': [1000, 5000, 10000],  # Example hyperparameter for TfidfVectorizer\n",
        "    'knn__n_neighbors': [3, 5, 7],  # Example hyperparameter for KNeighborsClassifier\n",
        "    'knn__weights': ['uniform', 'distance'],  # Example hyperparameter for KNeighborsClassifier\n",
        "    'knn__p': [1, 2]  # Example hyperparameter for KNeighborsClassifier\n",
        "}\n",
        "\n",
        "# Encode the labels\n",
        "le = LabelEncoder()\n",
        "y_train_encoded = le.fit_transform(y_train)\n",
        "y_test_encoded = le.transform(y_test)\n",
        "\n",
        "# Perform Grid Search\n",
        "grid_search_knn = GridSearchCV(pipeline, param_grid, cv=5)\n",
        "grid_search_knn.fit(X_train, y_train_encoded)\n",
        "\n",
        "# Get the best hyperparameter values and model accuracy\n",
        "best_params_knn = grid_search_knn.best_params_\n",
        "best_accuracy_knn = grid_search_knn.best_score_\n",
        "\n",
        "print(\"Best Hyperparameters (KNN): \", best_params_knn)\n",
        "print(\"Best Accuracy (KNN): \", best_accuracy_knn)\n",
        "\n",
        "# Get the best trained model\n",
        "best_model_knn = grid_search_knn.best_estimator_\n",
        "\n",
        "# Predict on the test data\n",
        "y_pred_knn = best_model_knn.predict(X_test)"
      ]
    },
    {
      "cell_type": "code",
      "execution_count": null,
      "metadata": {
        "colab": {
          "background_save": true
        },
        "id": "PWbKDO5ChuXO"
      },
      "outputs": [],
      "source": [
        "# Calculate confusion matrix\n",
        "cm_knn = confusion_matrix(y_test_encoded, y_pred_knn)\n",
        "print(\"Confusion Matrix (KNN):\")\n",
        "print(cm_knn)\n",
        "\n",
        "# Calculate F1 score\n",
        "f1_knn = f1_score(y_test_encoded, y_pred_knn, average='weighted')\n",
        "print(\"F1 Score (KNN):\", f1_knn)\n",
        "\n",
        "# Calculate precision score\n",
        "precision_knn = precision_score(y_test_encoded, y_pred_knn, average='weighted')\n",
        "print(\"Precision Score (KNN):\", precision_knn)\n",
        "\n",
        "# Calculate recall score\n",
        "recall_knn = recall_score(y_test_encoded, y_pred_knn, average='weighted')\n",
        "print(\"Recall Score (KNN):\", recall_knn)"
      ]
    },
    {
      "cell_type": "code",
      "execution_count": null,
      "metadata": {
        "colab": {
          "background_save": true
        },
        "id": "Da4yjC-IhoyG"
      },
      "outputs": [],
      "source": [
        "# Plot ROC curve\n",
        "y_pred_prob_knn = best_model_knn.predict_proba(X_test)[:, 1]\n",
        "fpr_knn, tpr_knn, thresholds_knn = roc_curve(y_test_encoded, y_pred_prob_knn)\n",
        "roc_auc_knn = roc_auc_score(y_test_encoded, y_pred_prob_knn)\n",
        "print(\"ROC AUC Score (KNN):\", roc_auc_knn)\n",
        "\n",
        "# Plot ROC curve\n",
        "plt.figure(figsize=(8, 6))\n",
        "plt.plot(fpr_knn, tpr_knn, label='ROC curve (area = %0.2f)' % roc_auc_knn)\n",
        "plt.plot([0, 1], [0, 1], 'k--')\n",
        "plt.xlim([0.0, 1.0])\n",
        "plt.ylim([0.0, 1.0])\n",
        "plt.xlabel('False Positive Rate')\n",
        "plt.ylabel('True Positive Rate')\n",
        "plt.title('Receiver Operating Characteristic (KNN)')\n",
        "plt.legend(loc=\"lower right\")\n",
        "plt.show\n"
      ]
    }
  ],
  "metadata": {
    "accelerator": "GPU",
    "colab": {
      "provenance": []
    },
    "gpuClass": "standard",
    "kernelspec": {
      "display_name": "Project-4eHZqZ2T",
      "language": "python",
      "name": "python3"
    },
    "language_info": {
      "codemirror_mode": {
        "name": "ipython",
        "version": 3
      },
      "file_extension": ".py",
      "mimetype": "text/x-python",
      "name": "python",
      "nbconvert_exporter": "python",
      "pygments_lexer": "ipython3",
      "version": "3.10.4"
    },
    "vscode": {
      "interpreter": {
        "hash": "d6b6322cacba14904fbcdf28cc953df735f9289f718951d3adc90c2cd48dcbcc"
      }
    }
  },
  "nbformat": 4,
  "nbformat_minor": 0
}
